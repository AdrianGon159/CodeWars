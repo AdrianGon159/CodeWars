{
 "cells": [
  {
   "cell_type": "code",
   "execution_count": null,
   "metadata": {},
   "outputs": [
    {
     "data": {
      "text/plain": [
       "'An isogram is a word that has no repeating letters, consecutive or non-consecutive. Implement a function that determines whether a string that contains only letters is an isogram. Assume the empty string is an isogram. Ignore letter case.\\n\\nExample: (Input --> Output)\\n\\n\"Dermatoglyphics\" --> true \"aba\" --> false \"moOse\" --> false (ignore letter case)\\n\\nisIsogram \"Dermatoglyphics\" = true\\nisIsogram \"moose\" = false\\nisIsogram \"aba\" = false'"
      ]
     },
     "execution_count": 1,
     "metadata": {},
     "output_type": "execute_result"
    }
   ],
   "source": [
    "'''An isogram is a word that has no repeating letters, consecutive or non-consecutive. Implement a function that determines whether a string that contains only letters is an isogram. Assume the empty string is an isogram. Ignore letter case.\n",
    "\n",
    "Example: (Input --> Output)\n",
    "\n",
    "\"Dermatoglyphics\" --> true \"aba\" --> false \"moOse\" --> false (ignore letter case)\n",
    "\n",
    "isIsogram \"Dermatoglyphics\" = true\n",
    "isIsogram \"moose\" = false\n",
    "isIsogram \"aba\" = false'''\n",
    "\n"
   ]
  },
  {
   "cell_type": "code",
   "execution_count": 10,
   "metadata": {},
   "outputs": [],
   "source": [
    "def is_isogram(string):\n",
    "    Isogram = True\n",
    "    string_list = []\n",
    "    string = string.lower()\n",
    "    for letter in string:\n",
    "        if letter not in string_list:\n",
    "            string_list.append(letter)\n",
    "        else:\n",
    "            Isogram = False\n",
    "    return Isogram"
   ]
  },
  {
   "cell_type": "code",
   "execution_count": 11,
   "metadata": {},
   "outputs": [
    {
     "name": "stdout",
     "output_type": "stream",
     "text": [
      "True\n"
     ]
    }
   ],
   "source": [
    "print(is_isogram(\"Dermatoglyphics\"))"
   ]
  }
 ],
 "metadata": {
  "kernelspec": {
   "display_name": "codewars_env",
   "language": "python",
   "name": "python3"
  },
  "language_info": {
   "codemirror_mode": {
    "name": "ipython",
    "version": 3
   },
   "file_extension": ".py",
   "mimetype": "text/x-python",
   "name": "python",
   "nbconvert_exporter": "python",
   "pygments_lexer": "ipython3",
   "version": "3.10.9"
  },
  "orig_nbformat": 4,
  "vscode": {
   "interpreter": {
    "hash": "bc1e94a57bb34952be58fac4c2b85c16789d1883f852d939a28f4df0ef03fafe"
   }
  }
 },
 "nbformat": 4,
 "nbformat_minor": 2
}
