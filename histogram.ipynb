{
 "cells": [
  {
   "cell_type": "code",
   "execution_count": null,
   "metadata": {},
   "outputs": [],
   "source": [
    "'''You will be given an array of non-negative integers and positive integer bin width.\n",
    "\n",
    "Your task is to create the Histogram method that will return histogram data corresponding to the input array. The histogram data is an array that stores under index i the count of numbers that belong to bin i. The first bin always starts with zero.\n",
    "\n",
    "On empty input you should return empty output.\n",
    "\n",
    "Examples:\n",
    "\n",
    "    For input data [1, 1, 0, 1, 3, 2, 6] and binWidth=1 the result will be [1, 3, 1, 1, 0, 0, 1] as the data contains single element \"0\", 3 elements \"1\" etc.\n",
    "    For the same data and binWidth=2 the result will be [4, 2, 0, 1]\n",
    "    For input data [7] and binWidth=1 the result will be [0, 0, 0, 0, 0, 0, 0, 1]\n",
    "'''"
   ]
  },
  {
   "cell_type": "code",
   "execution_count": 49,
   "metadata": {},
   "outputs": [],
   "source": [
    "def histogram(values, bin_width):\n",
    "    try :\n",
    "        max_value = max(values)\n",
    "    except ValueError:\n",
    "        max_value = 0\n",
    "    new_list = []\n",
    "    for i in range(max_value+1):\n",
    "        new_list.append(values.count(i))\n",
    "    out_list = []\n",
    "    number = 0\n",
    "    count = 0\n",
    "    for i in range(len(new_list)):\n",
    "        number += new_list[i]\n",
    "        count += 1\n",
    "        if count == bin_width:\n",
    "            out_list.append(number)\n",
    "            number = 0\n",
    "            count = 0\n",
    "        if i == len(new_list)-1 and count%bin_width != 0: #Si es la última coordenada, añadimos para no dejar ningún valor fuera\n",
    "            out_list.append(number)\n",
    "    if out_list ==[0]:\n",
    "        out_list = []\n",
    "    return out_list"
   ]
  },
  {
   "cell_type": "code",
   "execution_count": 50,
   "metadata": {},
   "outputs": [
    {
     "name": "stdout",
     "output_type": "stream",
     "text": [
      "[1, 3, 1, 1, 0, 0, 1]\n"
     ]
    }
   ],
   "source": [
    "out_list = histogram([1, 1, 0, 1, 3, 2, 6] , 1)\n",
    "print(out_list)"
   ]
  },
  {
   "cell_type": "code",
   "execution_count": 46,
   "metadata": {},
   "outputs": [
    {
     "data": {
      "text/plain": [
       "1"
      ]
     },
     "execution_count": 46,
     "metadata": {},
     "output_type": "execute_result"
    }
   ],
   "source": [
    "3%2 \n"
   ]
  }
 ],
 "metadata": {
  "kernelspec": {
   "display_name": "codewars_env",
   "language": "python",
   "name": "python3"
  },
  "language_info": {
   "codemirror_mode": {
    "name": "ipython",
    "version": 3
   },
   "file_extension": ".py",
   "mimetype": "text/x-python",
   "name": "python",
   "nbconvert_exporter": "python",
   "pygments_lexer": "ipython3",
   "version": "3.10.9"
  },
  "orig_nbformat": 4,
  "vscode": {
   "interpreter": {
    "hash": "bc1e94a57bb34952be58fac4c2b85c16789d1883f852d939a28f4df0ef03fafe"
   }
  }
 },
 "nbformat": 4,
 "nbformat_minor": 2
}
